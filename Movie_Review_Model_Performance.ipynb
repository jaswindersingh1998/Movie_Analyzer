{
 "cells": [
  {
   "cell_type": "code",
   "execution_count": 1,
   "id": "b2c19679",
   "metadata": {},
   "outputs": [
    {
     "name": "stderr",
     "output_type": "stream",
     "text": [
      "[nltk_data] Downloading package stopwords to\n",
      "[nltk_data]     C:\\Users\\HP\\AppData\\Roaming\\nltk_data...\n",
      "[nltk_data]   Package stopwords is already up-to-date!\n"
     ]
    },
    {
     "name": "stdout",
     "output_type": "stream",
     "text": [
      "Collecting text-normalizer\n",
      "  Downloading text-normalizer-0.1.3.tar.gz (25 kB)\n",
      "  Downloading text-normalizer-0.1.2.tar.gz (25 kB)\n",
      "  Downloading text-normalizer-0.1.1.tar.gz (25 kB)\n",
      "  Downloading text-normalizer-0.1.0.tar.gz (25 kB)\n",
      "  Downloading text_normalizer-0.0.5-py3-none-any.whl (92 kB)\n",
      "Requirement already satisfied: pandas in c:\\users\\hp\\anaconda3\\lib\\site-packages (from text-normalizer) (1.2.4)\n",
      "Requirement already satisfied: pytz>=2017.3 in c:\\users\\hp\\anaconda3\\lib\\site-packages (from pandas->text-normalizer) (2021.1)\n",
      "Requirement already satisfied: python-dateutil>=2.7.3 in c:\\users\\hp\\anaconda3\\lib\\site-packages (from pandas->text-normalizer) (2.8.1)\n",
      "Requirement already satisfied: numpy>=1.16.5 in c:\\users\\hp\\anaconda3\\lib\\site-packages (from pandas->text-normalizer) (1.20.1)\n",
      "Requirement already satisfied: six>=1.5 in c:\\users\\hp\\anaconda3\\lib\\site-packages (from python-dateutil>=2.7.3->pandas->text-normalizer) (1.15.0)\n",
      "Installing collected packages: text-normalizer\n",
      "Successfully installed text-normalizer-0.0.5\n"
     ]
    },
    {
     "name": "stderr",
     "output_type": "stream",
     "text": [
      "WARNING: Retrying (Retry(total=4, connect=None, read=None, redirect=None, status=None)) after connection broken by 'ProtocolError('Connection aborted.', ConnectionResetError(10054, 'An existing connection was forcibly closed by the remote host', None, 10054, None))': /simple/text-normalizer/\n",
      "    ERROR: Command errored out with exit status 1:\n",
      "     command: 'C:\\Users\\HP\\anaconda3\\python.exe' -c 'import sys, setuptools, tokenize; sys.argv[0] = '\"'\"'C:\\\\Users\\\\HP\\\\AppData\\\\Local\\\\Temp\\\\pip-install-3uks_a_b\\\\text-normalizer_a2d6cd82c1de48b38bb5eaa04d6878d2\\\\setup.py'\"'\"'; __file__='\"'\"'C:\\\\Users\\\\HP\\\\AppData\\\\Local\\\\Temp\\\\pip-install-3uks_a_b\\\\text-normalizer_a2d6cd82c1de48b38bb5eaa04d6878d2\\\\setup.py'\"'\"';f=getattr(tokenize, '\"'\"'open'\"'\"', open)(__file__);code=f.read().replace('\"'\"'\\r\\n'\"'\"', '\"'\"'\\n'\"'\"');f.close();exec(compile(code, __file__, '\"'\"'exec'\"'\"'))' egg_info --egg-base 'C:\\Users\\HP\\AppData\\Local\\Temp\\pip-pip-egg-info-oz3w0wn3'\n",
      "         cwd: C:\\Users\\HP\\AppData\\Local\\Temp\\pip-install-3uks_a_b\\text-normalizer_a2d6cd82c1de48b38bb5eaa04d6878d2\\\n",
      "    Complete output (7 lines):\n",
      "    Traceback (most recent call last):\n",
      "      File \"<string>\", line 1, in <module>\n",
      "      File \"C:\\Users\\HP\\AppData\\Local\\Temp\\pip-install-3uks_a_b\\text-normalizer_a2d6cd82c1de48b38bb5eaa04d6878d2\\setup.py\", line 14, in <module>\n",
      "        long_description = f.read()\n",
      "      File \"C:\\Users\\HP\\anaconda3\\lib\\encodings\\cp1252.py\", line 23, in decode\n",
      "        return codecs.charmap_decode(input,self.errors,decoding_table)[0]\n",
      "    UnicodeDecodeError: 'charmap' codec can't decode byte 0x9d in position 712: character maps to <undefined>\n",
      "    ----------------------------------------\n",
      "WARNING: Discarding https://files.pythonhosted.org/packages/b7/98/b49628d90d5793e7369e25d6a84f9ca4a1fc6472d848d15daa9bf9129ad7/text-normalizer-0.1.3.tar.gz#sha256=6ee910540964d0410db317303744e6503e845084e3911f148393bf1b11733c57 (from https://pypi.org/simple/text-normalizer/) (requires-python:>=3.5). Command errored out with exit status 1: python setup.py egg_info Check the logs for full command output.\n",
      "    ERROR: Command errored out with exit status 1:\n",
      "     command: 'C:\\Users\\HP\\anaconda3\\python.exe' -c 'import sys, setuptools, tokenize; sys.argv[0] = '\"'\"'C:\\\\Users\\\\HP\\\\AppData\\\\Local\\\\Temp\\\\pip-install-3uks_a_b\\\\text-normalizer_286c6c9f8f4f462a9c3b3a3c79d64e20\\\\setup.py'\"'\"'; __file__='\"'\"'C:\\\\Users\\\\HP\\\\AppData\\\\Local\\\\Temp\\\\pip-install-3uks_a_b\\\\text-normalizer_286c6c9f8f4f462a9c3b3a3c79d64e20\\\\setup.py'\"'\"';f=getattr(tokenize, '\"'\"'open'\"'\"', open)(__file__);code=f.read().replace('\"'\"'\\r\\n'\"'\"', '\"'\"'\\n'\"'\"');f.close();exec(compile(code, __file__, '\"'\"'exec'\"'\"'))' egg_info --egg-base 'C:\\Users\\HP\\AppData\\Local\\Temp\\pip-pip-egg-info-vnhm2prt'\n",
      "         cwd: C:\\Users\\HP\\AppData\\Local\\Temp\\pip-install-3uks_a_b\\text-normalizer_286c6c9f8f4f462a9c3b3a3c79d64e20\\\n",
      "    Complete output (7 lines):\n",
      "    Traceback (most recent call last):\n",
      "      File \"<string>\", line 1, in <module>\n",
      "      File \"C:\\Users\\HP\\AppData\\Local\\Temp\\pip-install-3uks_a_b\\text-normalizer_286c6c9f8f4f462a9c3b3a3c79d64e20\\setup.py\", line 14, in <module>\n",
      "        long_description = f.read()\n",
      "      File \"C:\\Users\\HP\\anaconda3\\lib\\encodings\\cp1252.py\", line 23, in decode\n",
      "        return codecs.charmap_decode(input,self.errors,decoding_table)[0]\n",
      "    UnicodeDecodeError: 'charmap' codec can't decode byte 0x9d in position 712: character maps to <undefined>\n",
      "    ----------------------------------------\n",
      "WARNING: Discarding https://files.pythonhosted.org/packages/88/bb/ce4b36c0696143d71bbd4d374110e61968e3a5476ba554951cc04199e888/text-normalizer-0.1.2.tar.gz#sha256=ea1e04f5c0cf6d587d7814796cd758883e6d3d26702c34fe3aa3c1379dcfcc06 (from https://pypi.org/simple/text-normalizer/). Command errored out with exit status 1: python setup.py egg_info Check the logs for full command output.\n",
      "    ERROR: Command errored out with exit status 1:\n",
      "     command: 'C:\\Users\\HP\\anaconda3\\python.exe' -c 'import sys, setuptools, tokenize; sys.argv[0] = '\"'\"'C:\\\\Users\\\\HP\\\\AppData\\\\Local\\\\Temp\\\\pip-install-3uks_a_b\\\\text-normalizer_1da4fb30de0f4ed382b10713001d4a20\\\\setup.py'\"'\"'; __file__='\"'\"'C:\\\\Users\\\\HP\\\\AppData\\\\Local\\\\Temp\\\\pip-install-3uks_a_b\\\\text-normalizer_1da4fb30de0f4ed382b10713001d4a20\\\\setup.py'\"'\"';f=getattr(tokenize, '\"'\"'open'\"'\"', open)(__file__);code=f.read().replace('\"'\"'\\r\\n'\"'\"', '\"'\"'\\n'\"'\"');f.close();exec(compile(code, __file__, '\"'\"'exec'\"'\"'))' egg_info --egg-base 'C:\\Users\\HP\\AppData\\Local\\Temp\\pip-pip-egg-info-8js6qd48'\n",
      "         cwd: C:\\Users\\HP\\AppData\\Local\\Temp\\pip-install-3uks_a_b\\text-normalizer_1da4fb30de0f4ed382b10713001d4a20\\\n",
      "    Complete output (7 lines):\n",
      "    Traceback (most recent call last):\n",
      "      File \"<string>\", line 1, in <module>\n",
      "      File \"C:\\Users\\HP\\AppData\\Local\\Temp\\pip-install-3uks_a_b\\text-normalizer_1da4fb30de0f4ed382b10713001d4a20\\setup.py\", line 14, in <module>\n",
      "        long_description = f.read()\n",
      "      File \"C:\\Users\\HP\\anaconda3\\lib\\encodings\\cp1252.py\", line 23, in decode\n",
      "        return codecs.charmap_decode(input,self.errors,decoding_table)[0]\n",
      "    UnicodeDecodeError: 'charmap' codec can't decode byte 0x9d in position 712: character maps to <undefined>\n",
      "    ----------------------------------------\n",
      "WARNING: Discarding https://files.pythonhosted.org/packages/04/6a/176ce59d7ff1d61c158ba5291d49e65a79d8ed403887daded3cf9953d697/text-normalizer-0.1.1.tar.gz#sha256=009b6b1d19d0e7eb7e038fd5b329ffd3e799767dff33bcddb7b103022f9a5cce (from https://pypi.org/simple/text-normalizer/). Command errored out with exit status 1: python setup.py egg_info Check the logs for full command output.\n",
      "    ERROR: Command errored out with exit status 1:\n",
      "     command: 'C:\\Users\\HP\\anaconda3\\python.exe' -c 'import sys, setuptools, tokenize; sys.argv[0] = '\"'\"'C:\\\\Users\\\\HP\\\\AppData\\\\Local\\\\Temp\\\\pip-install-3uks_a_b\\\\text-normalizer_4875a0fe2a8044e69c33eb14befa74db\\\\setup.py'\"'\"'; __file__='\"'\"'C:\\\\Users\\\\HP\\\\AppData\\\\Local\\\\Temp\\\\pip-install-3uks_a_b\\\\text-normalizer_4875a0fe2a8044e69c33eb14befa74db\\\\setup.py'\"'\"';f=getattr(tokenize, '\"'\"'open'\"'\"', open)(__file__);code=f.read().replace('\"'\"'\\r\\n'\"'\"', '\"'\"'\\n'\"'\"');f.close();exec(compile(code, __file__, '\"'\"'exec'\"'\"'))' egg_info --egg-base 'C:\\Users\\HP\\AppData\\Local\\Temp\\pip-pip-egg-info-i0_of9n1'\n",
      "         cwd: C:\\Users\\HP\\AppData\\Local\\Temp\\pip-install-3uks_a_b\\text-normalizer_4875a0fe2a8044e69c33eb14befa74db\\\n",
      "    Complete output (7 lines):\n",
      "    Traceback (most recent call last):\n",
      "      File \"<string>\", line 1, in <module>\n",
      "      File \"C:\\Users\\HP\\AppData\\Local\\Temp\\pip-install-3uks_a_b\\text-normalizer_4875a0fe2a8044e69c33eb14befa74db\\setup.py\", line 14, in <module>\n",
      "        long_description = f.read()\n",
      "      File \"C:\\Users\\HP\\anaconda3\\lib\\encodings\\cp1252.py\", line 23, in decode\n",
      "        return codecs.charmap_decode(input,self.errors,decoding_table)[0]\n",
      "    UnicodeDecodeError: 'charmap' codec can't decode byte 0x9d in position 712: character maps to <undefined>\n",
      "    ----------------------------------------\n",
      "WARNING: Discarding https://files.pythonhosted.org/packages/28/23/de4bcb116c33e7eb1c8f7d8fa8f795f4dfa467ddf6e0eebc48baffba2e38/text-normalizer-0.1.0.tar.gz#sha256=b52b56a9b20405f8219edd730f9c92a36761a246ae6da4c2a4da540fed9b9a31 (from https://pypi.org/simple/text-normalizer/). Command errored out with exit status 1: python setup.py egg_info Check the logs for full command output.\n"
     ]
    },
    {
     "ename": "ModuleNotFoundError",
     "evalue": "No module named 'spacy'",
     "output_type": "error",
     "traceback": [
      "\u001b[1;31m---------------------------------------------------------------------------\u001b[0m",
      "\u001b[1;31mModuleNotFoundError\u001b[0m                       Traceback (most recent call last)",
      "\u001b[1;32m<ipython-input-1-c6215be216f6>\u001b[0m in \u001b[0;36m<module>\u001b[1;34m\u001b[0m\n\u001b[0;32m     24\u001b[0m \u001b[1;32mfrom\u001b[0m \u001b[0mnltk\u001b[0m\u001b[1;33m.\u001b[0m\u001b[0mtokenize\u001b[0m \u001b[1;32mimport\u001b[0m \u001b[0mword_tokenize\u001b[0m\u001b[1;33m,\u001b[0m\u001b[0msent_tokenize\u001b[0m\u001b[1;33m\u001b[0m\u001b[1;33m\u001b[0m\u001b[0m\n\u001b[0;32m     25\u001b[0m \u001b[1;32mfrom\u001b[0m \u001b[0mbs4\u001b[0m \u001b[1;32mimport\u001b[0m \u001b[0mBeautifulSoup\u001b[0m\u001b[1;33m\u001b[0m\u001b[1;33m\u001b[0m\u001b[0m\n\u001b[1;32m---> 26\u001b[1;33m \u001b[1;32mimport\u001b[0m \u001b[0mspacy\u001b[0m\u001b[1;33m\u001b[0m\u001b[1;33m\u001b[0m\u001b[0m\n\u001b[0m\u001b[0;32m     27\u001b[0m \u001b[1;32mfrom\u001b[0m \u001b[0mnltk\u001b[0m\u001b[1;33m.\u001b[0m\u001b[0mcorpus\u001b[0m \u001b[1;32mimport\u001b[0m \u001b[0mstopwords\u001b[0m\u001b[1;33m\u001b[0m\u001b[1;33m\u001b[0m\u001b[0m\n\u001b[0;32m     28\u001b[0m \u001b[1;32mimport\u001b[0m \u001b[0mre\u001b[0m\u001b[1;33m,\u001b[0m\u001b[0mstring\u001b[0m\u001b[1;33m,\u001b[0m\u001b[0municodedata\u001b[0m\u001b[1;33m\u001b[0m\u001b[1;33m\u001b[0m\u001b[0m\n",
      "\u001b[1;31mModuleNotFoundError\u001b[0m: No module named 'spacy'"
     ]
    }
   ],
   "source": [
    "import numpy as np\n",
    "import pandas as pd\n",
    "import nltk\n",
    "nltk.download('stopwords')\n",
    "import textblob\n",
    "import matplotlib.pyplot as plt\n",
    "import seaborn as sns\n",
    "from sklearn.metrics import confusion_matrix \n",
    "from sklearn.metrics import accuracy_score \n",
    "from sklearn.metrics import f1_score\n",
    "from sklearn.metrics import precision_score\n",
    "from sklearn.metrics import recall_score\n",
    "from sklearn.metrics import classification_report \n",
    "import seaborn as sn\n",
    "!pip install text-normalizer\n",
    "import text_normalizer as tn\n",
    "import matplotlib.pyplot as plt\n",
    "from sklearn.metrics import accuracy_score \n",
    "from sklearn.metrics import classification_report\n",
    "from nltk.corpus import stopwords\n",
    "from nltk.stem.porter import PorterStemmer\n",
    "from wordcloud import WordCloud,STOPWORDS\n",
    "from nltk.stem import WordNetLemmatizer\n",
    "from nltk.tokenize import word_tokenize,sent_tokenize\n",
    "from bs4 import BeautifulSoup\n",
    "import spacy\n",
    "from nltk.corpus import stopwords\n",
    "import re,string,unicodedata\n",
    "from nltk.tokenize.toktok import ToktokTokenizer\n",
    "from nltk.stem import LancasterStemmer,WordNetLemmatizer\n",
    "from textblob import TextBlob\n",
    "from textblob import Word\n",
    "from sklearn.metrics import (accuracy_score, classification_report,confusion_matrix)\n",
    "!pip install afinn\n",
    "from afinn import Afinn\n",
    "nltk.download('vader_lexicon')\n",
    "from nltk.sentiment.vader import SentimentIntensityAnalyzer\n",
    "from sklearn import metric"
   ]
  },
  {
   "cell_type": "code",
   "execution_count": 3,
   "id": "72bf7e18",
   "metadata": {},
   "outputs": [
    {
     "name": "stdout",
     "output_type": "stream",
     "text": [
      "Size of imdb dataset :  50000\n"
     ]
    },
    {
     "data": {
      "text/html": [
       "<div>\n",
       "<style scoped>\n",
       "    .dataframe tbody tr th:only-of-type {\n",
       "        vertical-align: middle;\n",
       "    }\n",
       "\n",
       "    .dataframe tbody tr th {\n",
       "        vertical-align: top;\n",
       "    }\n",
       "\n",
       "    .dataframe thead th {\n",
       "        text-align: right;\n",
       "    }\n",
       "</style>\n",
       "<table border=\"1\" class=\"dataframe\">\n",
       "  <thead>\n",
       "    <tr style=\"text-align: right;\">\n",
       "      <th></th>\n",
       "      <th>review</th>\n",
       "      <th>sentiment</th>\n",
       "    </tr>\n",
       "  </thead>\n",
       "  <tbody>\n",
       "    <tr>\n",
       "      <th>0</th>\n",
       "      <td>One of the other reviewers has mentioned that ...</td>\n",
       "      <td>positive</td>\n",
       "    </tr>\n",
       "    <tr>\n",
       "      <th>1</th>\n",
       "      <td>A wonderful little production. &lt;br /&gt;&lt;br /&gt;The...</td>\n",
       "      <td>positive</td>\n",
       "    </tr>\n",
       "    <tr>\n",
       "      <th>2</th>\n",
       "      <td>I thought this was a wonderful way to spend ti...</td>\n",
       "      <td>positive</td>\n",
       "    </tr>\n",
       "    <tr>\n",
       "      <th>3</th>\n",
       "      <td>Basically there's a family where a little boy ...</td>\n",
       "      <td>negative</td>\n",
       "    </tr>\n",
       "    <tr>\n",
       "      <th>4</th>\n",
       "      <td>Petter Mattei's \"Love in the Time of Money\" is...</td>\n",
       "      <td>positive</td>\n",
       "    </tr>\n",
       "  </tbody>\n",
       "</table>\n",
       "</div>"
      ],
      "text/plain": [
       "                                              review sentiment\n",
       "0  One of the other reviewers has mentioned that ...  positive\n",
       "1  A wonderful little production. <br /><br />The...  positive\n",
       "2  I thought this was a wonderful way to spend ti...  positive\n",
       "3  Basically there's a family where a little boy ...  negative\n",
       "4  Petter Mattei's \"Love in the Time of Money\" is...  positive"
      ]
     },
     "execution_count": 3,
     "metadata": {},
     "output_type": "execute_result"
    }
   ],
   "source": [
    "df = pd.read_excel('Mountain Analytics IMDB Dataset 1.xlsx')\n",
    "print(\"Size of imdb dataset : \",df.shape[0])\n",
    "df.head()"
   ]
  },
  {
   "cell_type": "code",
   "execution_count": 14,
   "id": "2816a760",
   "metadata": {},
   "outputs": [
    {
     "name": "stderr",
     "output_type": "stream",
     "text": [
      "[nltk_data] Downloading package punkt to\n",
      "[nltk_data]     C:\\Users\\HP\\AppData\\Roaming\\nltk_data...\n",
      "[nltk_data]   Package punkt is already up-to-date!\n"
     ]
    },
    {
     "data": {
      "text/plain": [
       "True"
      ]
     },
     "execution_count": 14,
     "metadata": {},
     "output_type": "execute_result"
    }
   ],
   "source": [
    "from nltk.tokenize import ToktokTokenizer\n",
    "import nltk\n",
    "nltk.download('punkt')"
   ]
  },
  {
   "cell_type": "code",
   "execution_count": 16,
   "id": "f0fcbd9a",
   "metadata": {},
   "outputs": [],
   "source": [
    "import re"
   ]
  },
  {
   "cell_type": "code",
   "execution_count": 17,
   "id": "81d5affe",
   "metadata": {},
   "outputs": [
    {
     "name": "stdout",
     "output_type": "stream",
     "text": [
      "{'out', 'those', 'did', 'couldn', 'an', 'needn', 'down', 'under', 'themselves', \"needn't\", 'a', 'won', 'wasn', 'very', 'mightn', 'himself', 'm', 'have', 'other', 'more', \"wasn't\", 'hadn', 'its', \"haven't\", 'haven', 'doesn', 'only', 'them', 'until', 'be', 'through', \"doesn't\", 'yourself', 'being', 'you', \"you'll\", 'whom', \"that'll\", 'y', 'yours', 'am', 'further', 'or', 'there', 'with', 'which', 'if', 'too', 'yourselves', 'after', 'than', 'for', 'nor', 'having', 'i', 'but', 'by', 'over', 'below', 'why', 'are', 'is', 'were', 'because', \"you've\", 'not', 'during', 'didn', 've', 'ours', 'while', 'about', 'both', 'll', 'me', 'our', 'her', 'hers', 'has', \"it's\", 'once', 'same', 'shouldn', 'and', 'of', 'as', 'been', 'against', \"mustn't\", \"didn't\", 'mustn', 't', 'at', 'into', \"shan't\", 'own', 'should', 'such', 'any', 'o', 'the', 'then', 'ain', 'their', 'can', \"couldn't\", 'hasn', 'that', 'do', 'these', 'when', 'most', 'no', 'him', 'again', 'all', \"mightn't\", 'it', 'ourselves', 'myself', 'his', \"won't\", 'weren', \"don't\", 'he', 'above', 'does', \"weren't\", 'had', \"hadn't\", 'she', 'we', 'herself', 'my', \"hasn't\", 'up', 'wouldn', 'isn', 'where', 'itself', \"you're\", 'don', 'this', \"should've\", 'before', 'was', 'some', 'now', 'each', 'will', \"wouldn't\", 'between', 'to', 'what', 'who', 'few', 'here', 'they', \"shouldn't\", 'just', \"you'd\", 'in', 'how', 'off', 'on', 'your', 's', \"aren't\", 'shan', 'so', 'from', \"she's\", 'd', 'doing', 're', 'aren', \"isn't\", 'theirs', 'ma'}\n",
      "0        one review mention watch 1 oz episod youll hoo...\n",
      "1        wonder littl product film techniqu unassum old...\n",
      "2        thought wonder way spend time hot summer weeke...\n",
      "3        basic there famili littl boy jake think there ...\n",
      "4        petter mattei love time money visual stun film...\n",
      "                               ...                        \n",
      "49995    thought movi right good job wasnt creativ orig...\n",
      "49996    bad plot bad dialogu bad act idiot direct anno...\n",
      "49997    cathol taught parochi elementari school nun ta...\n",
      "49998    im go disagre previou comment side maltin one ...\n",
      "49999    one expect star trek movi high art fan expect ...\n",
      "Name: review, Length: 50000, dtype: object\n"
     ]
    }
   ],
   "source": [
    "#Preprocessing of reviews\n",
    "blank = []\n",
    "for i,rv,lb in df.itertuples():\n",
    "    if rv.isspace():\n",
    "        blank.append(i)\n",
    "        \n",
    "#Removing the html strips\n",
    "def strip_html(text):\n",
    "    soup = BeautifulSoup(text, \"html.parser\")\n",
    "    return soup.get_text()\n",
    "\n",
    "#Stemming the text\n",
    "def simple_stemmer(text):\n",
    "    ps=nltk.porter.PorterStemmer()\n",
    "    text= ' '.join([ps.stem(word) for word in text.split()])\n",
    "    return text\n",
    "    \n",
    "#set stopwords to english\n",
    "stop=set(stopwords.words('english'))\n",
    "print(stop)\n",
    "\n",
    "#Tokenization of text\n",
    "tokenizer=ToktokTokenizer()\n",
    "#Setting English stopwords\n",
    "stopword_list=nltk.corpus.stopwords.words('english')\n",
    "\n",
    "#removing special characters\n",
    "def remove_special_character(text):\n",
    "    text = re.sub('[^a-zA-z0-9\\s]', '', text)\n",
    "    return text\n",
    "\n",
    "#removing the stopwords\n",
    "def remove_stopwords(text, is_lower_case=False):\n",
    "    tokens = tokenizer.tokenize(text)\n",
    "    tokens = [token.strip() for token in tokens]\n",
    "    if is_lower_case:\n",
    "        filtered_tokens = [token for token in tokens if token not in stopword_list]\n",
    "    else:\n",
    "        filtered_tokens = [token for token in tokens if token.lower() not in stopword_list]\n",
    "    filtered_text = ' '.join(filtered_tokens)    \n",
    "    return filtered_text\n",
    "\n",
    "#Apply function on review column\n",
    "df['review']=df['review'].apply(strip_html)\n",
    "#df['review']=df['review'].apply(remove_between_square_brackets)\n",
    "df['review']=df['review'].apply(remove_special_character)\n",
    "df['review']=df['review'].apply(remove_stopwords)\n",
    "df['review']=df['review'].apply(simple_stemmer)\n",
    "\n",
    "print(df.review)"
   ]
  },
  {
   "cell_type": "code",
   "execution_count": 20,
   "id": "cc79ff9e",
   "metadata": {},
   "outputs": [],
   "source": [
    "\n",
    "reviews = np.array(df['review'])\n",
    "sentiments = np.array(df['sentiment'])\n",
    "\n",
    "# extracting data for model evaluation\n",
    "review_test = reviews[35000:]\n",
    "sentiment_test = sentiments[35000:]\n",
    "review_ids_sample = [7626, 3533, 13010]"
   ]
  },
  {
   "cell_type": "code",
   "execution_count": 24,
   "id": "3fb42fa9",
   "metadata": {},
   "outputs": [
    {
     "name": "stdout",
     "output_type": "stream",
     "text": [
      "Collecting vaderSentiment\n",
      "  Downloading vaderSentiment-3.3.2-py2.py3-none-any.whl (125 kB)\n",
      "Requirement already satisfied: requests in c:\\users\\hp\\anaconda3\\lib\\site-packages (from vaderSentiment) (2.25.1)\n",
      "Requirement already satisfied: chardet<5,>=3.0.2 in c:\\users\\hp\\anaconda3\\lib\\site-packages (from requests->vaderSentiment) (4.0.0)\n",
      "Requirement already satisfied: idna<3,>=2.5 in c:\\users\\hp\\anaconda3\\lib\\site-packages (from requests->vaderSentiment) (2.10)\n",
      "Requirement already satisfied: certifi>=2017.4.17 in c:\\users\\hp\\anaconda3\\lib\\site-packages (from requests->vaderSentiment) (2022.12.7)\n",
      "Requirement already satisfied: urllib3<1.27,>=1.21.1 in c:\\users\\hp\\anaconda3\\lib\\site-packages (from requests->vaderSentiment) (1.26.4)\n",
      "Installing collected packages: vaderSentiment\n",
      "Successfully installed vaderSentiment-3.3.2\n"
     ]
    }
   ],
   "source": [
    "!pip install vaderSentiment\n",
    "\n",
    "from vaderSentiment.vaderSentiment import SentimentIntensityAnalyzer\n"
   ]
  },
  {
   "cell_type": "markdown",
   "id": "fc783494",
   "metadata": {},
   "source": [
    "## Sentiment Analysis using VADER model"
   ]
  },
  {
   "cell_type": "code",
   "execution_count": 25,
   "id": "b5f71a45",
   "metadata": {},
   "outputs": [],
   "source": [
    "#Building the model\n",
    "def model(review,threshold=0.1,verbose=False):\n",
    "    analyzer=SentimentIntensityAnalyzer()\n",
    "    scores=analyzer.polarity_scores(review)\n",
    "\n",
    "    agg_score=scores['compound']\n",
    "    final_sentiment='positive' if agg_score>=threshold else 'negative'\n",
    "    if verbose:\n",
    "        positive = round(scores['pos'],2)*100\n",
    "        final= round(agg_score,2)*100\n",
    "        negative=round(scores['neg'],2)*100\n",
    "        neutral =round(scores['neu'],2)*100\n",
    "\n",
    "        print(f'POSITIVE : {positive}%')\n",
    "        print(f'NEGATIVE : {negative}%')\n",
    "        print(f'NEUTRAL : {neutral}%')\n",
    "        print(f'FINAL : {final}')\n",
    "        print(f'SENTIMENT : {final_sentiment}')\n",
    "    return final_sentiment"
   ]
  },
  {
   "cell_type": "code",
   "execution_count": 26,
   "id": "af833e33",
   "metadata": {},
   "outputs": [],
   "source": [
    "#Predict sentiments of test data\n",
    "predict_sentiments = [model(review, threshold=0.4, verbose=False) for review in review_test]\n",
    "     "
   ]
  },
  {
   "cell_type": "code",
   "execution_count": 30,
   "id": "89151eba",
   "metadata": {},
   "outputs": [
    {
     "name": "stdout",
     "output_type": "stream",
     "text": [
      "Confusion Matrix:\n"
     ]
    },
    {
     "data": {
      "text/plain": [
       "<AxesSubplot:>"
      ]
     },
     "execution_count": 30,
     "metadata": {},
     "output_type": "execute_result"
    },
    {
     "data": {
      "image/png": "[encoded data removed]",
      "text/plain": [
       "<Figure size 432x288 with 2 Axes>"
      ]
     },
     "metadata": {
      "needs_background": "light"
     },
     "output_type": "display_data"
    }
   ],
   "source": [
    "#Confusion matrix\n",
    "print(\"Confusion Matrix:\")\n",
    "mat=confusion_matrix(sentiment_test, predict_sentiments)\n",
    "\n",
    "group_names = ['True Neg','False Pos','False Neg','True Pos']\n",
    "group_counts = [\"{0:0.0f}\".format(value) for value in mat.flatten()]\n",
    "group_percentages = [\"{0:.2%}\".format(value) for value in mat.flatten()/np.sum(mat)]\n",
    "labels = [f\"{v1}\\n{v2}\\n{v3}\" for v1, v2, v3 in zip(group_names,group_counts,group_percentages)]\n",
    "labels = np.asarray(labels).reshape(2,2)\n",
    "sns.heatmap(mat, annot=labels, fmt='', cmap='Blues')\n"
   ]
  },
  {
   "cell_type": "code",
   "execution_count": 27,
   "id": "90041763",
   "metadata": {},
   "outputs": [
    {
     "name": "stdout",
     "output_type": "stream",
     "text": [
      "Classification report :\n",
      "              precision    recall  f1-score   support\n",
      "\n",
      "    negative       0.72      0.56      0.63      7490\n",
      "    positive       0.64      0.79      0.70      7510\n",
      "\n",
      "    accuracy                           0.67     15000\n",
      "   macro avg       0.68      0.67      0.67     15000\n",
      "weighted avg       0.68      0.67      0.67     15000\n",
      "\n"
     ]
    }
   ],
   "source": [
    "#Parameters for testing the performance of our model:\n",
    "print(\"Classification report :\")\n",
    "print(classification_report(sentiment_test, predict_sentiments))"
   ]
  },
  {
   "cell_type": "code",
   "execution_count": 29,
   "id": "5fe9b3be",
   "metadata": {},
   "outputs": [
    {
     "name": "stdout",
     "output_type": "stream",
     "text": [
      "0.6709333333333334\n"
     ]
    }
   ],
   "source": [
    "from sklearn import metrics\n",
    "#Accuracy or Testing score of our model:\n",
    "print(metrics.accuracy_score(sentiment_test, predict_sentiments))"
   ]
  },
  {
   "cell_type": "markdown",
   "id": "6680bc71",
   "metadata": {},
   "source": [
    "## Sentiment Analysis using Text Blob"
   ]
  },
  {
   "cell_type": "code",
   "execution_count": 31,
   "id": "8fc09726",
   "metadata": {},
   "outputs": [],
   "source": [
    "\n",
    "#Predict sentiments of test data\n",
    "pol_sent = [textblob.TextBlob(review).sentiment.polarity for review in review_test]\n",
    "predict_sentiments = ['positive' if score >= 0.1 else 'negative' for score in pol_sent]"
   ]
  },
  {
   "cell_type": "code",
   "execution_count": 34,
   "id": "79f04b88",
   "metadata": {},
   "outputs": [
    {
     "name": "stdout",
     "output_type": "stream",
     "text": [
      "Confusion Matrix:\n"
     ]
    },
    {
     "data": {
      "text/plain": [
       "<AxesSubplot:>"
      ]
     },
     "execution_count": 34,
     "metadata": {},
     "output_type": "execute_result"
    },
    {
     "data": {
      "image/png": "[encoded data removed]",
      "text/plain": [
       "<Figure size 432x288 with 2 Axes>"
      ]
     },
     "metadata": {
      "needs_background": "light"
     },
     "output_type": "display_data"
    }
   ],
   "source": [
    "#Confusion matrix\n",
    "print(\"Confusion Matrix:\")\n",
    "mat=confusion_matrix(sentiment_test, predict_sentiments)\n",
    "\n",
    "group_names = ['True Neg','False Pos','False Neg','True Pos']\n",
    "group_counts = [\"{0:0.0f}\".format(value) for value in mat.flatten()]\n",
    "group_percentages = [\"{0:.2%}\".format(value) for value in mat.flatten()/np.sum(mat)]\n",
    "labels = [f\"{v1}\\n{v2}\\n{v3}\" for v1, v2, v3 in zip(group_names,group_counts,group_percentages)]\n",
    "labels = np.asarray(labels).reshape(2,2)\n",
    "sns.heatmap(mat, annot=labels, fmt='', cmap='Blues')"
   ]
  },
  {
   "cell_type": "code",
   "execution_count": 32,
   "id": "a12a2ded",
   "metadata": {},
   "outputs": [
    {
     "name": "stdout",
     "output_type": "stream",
     "text": [
      "Classification report :\n",
      "              precision    recall  f1-score   support\n",
      "\n",
      "    negative       0.69      0.68      0.68      7490\n",
      "    positive       0.68      0.69      0.69      7510\n",
      "\n",
      "    accuracy                           0.68     15000\n",
      "   macro avg       0.68      0.68      0.68     15000\n",
      "weighted avg       0.68      0.68      0.68     15000\n",
      "\n"
     ]
    }
   ],
   "source": [
    "#Parameters for testing the performance of our model:\n",
    "print(\"Classification report :\")\n",
    "print(classification_report(sentiment_test, predict_sentiments))"
   ]
  },
  {
   "cell_type": "code",
   "execution_count": 33,
   "id": "2e608410",
   "metadata": {},
   "outputs": [
    {
     "name": "stdout",
     "output_type": "stream",
     "text": [
      "0.6839333333333333\n"
     ]
    }
   ],
   "source": [
    "#Accuracy or Testing score of our model:\n",
    "print(metrics.accuracy_score(sentiment_test, predict_sentiments))"
   ]
  },
  {
   "cell_type": "markdown",
   "id": "6e36ce49",
   "metadata": {},
   "source": [
    "## Sentiment Analysis using AFINN model"
   ]
  },
  {
   "cell_type": "code",
   "execution_count": 37,
   "id": "4932f4c7",
   "metadata": {},
   "outputs": [],
   "source": [
    "from afinn import Afinn\n",
    "model = Afinn(emoticons=True) "
   ]
  },
  {
   "cell_type": "code",
   "execution_count": 38,
   "id": "51aba7ad",
   "metadata": {},
   "outputs": [],
   "source": [
    "     \n",
    "#Predict sentiments of test data\n",
    "pol_sent = [model.score(review) for review in review_test]\n",
    "predict_sentiments = ['positive' if score >= 1.0 else 'negative' for score in pol_sent]"
   ]
  },
  {
   "cell_type": "code",
   "execution_count": null,
   "id": "24889464",
   "metadata": {},
   "outputs": [],
   "source": [
    "\n",
    "#Confusion matrix\n",
    "print(\"Confusion Matrix:\")\n",
    "mat=confusion_matrix(sentiment_test, predict_sentiments)\n",
    "\n",
    "group_names = ['True Neg','False Pos','False Neg','True Pos']\n",
    "group_counts = [\"{0:0.0f}\".format(value) for value in mat.flatten()]\n",
    "group_percentages = [\"{0:.2%}\".format(value) for value in mat.flatten()/np.sum(mat)]\n",
    "labels = [f\"{v1}\\n{v2}\\n{v3}\" for v1, v2, v3 in zip(group_names,group_counts,group_percentages)]\n",
    "labels = np.asarray(labels).reshape(2,2)\n",
    "sns.heatmap(mat, annot=labels, fmt='', cmap='Blues')"
   ]
  },
  {
   "cell_type": "code",
   "execution_count": 39,
   "id": "d2f41048",
   "metadata": {},
   "outputs": [
    {
     "name": "stdout",
     "output_type": "stream",
     "text": [
      "Classification report :\n",
      "              precision    recall  f1-score   support\n",
      "\n",
      "    negative       0.73      0.50      0.59      7490\n",
      "    positive       0.62      0.82      0.71      7510\n",
      "\n",
      "    accuracy                           0.66     15000\n",
      "   macro avg       0.68      0.66      0.65     15000\n",
      "weighted avg       0.68      0.66      0.65     15000\n",
      "\n"
     ]
    }
   ],
   "source": [
    "#Parameters for testing the performance of our model:\n",
    "print(\"Classification report :\")\n",
    "print(classification_report(sentiment_test, predict_sentiments))"
   ]
  },
  {
   "cell_type": "code",
   "execution_count": 40,
   "id": "4628b388",
   "metadata": {},
   "outputs": [
    {
     "name": "stdout",
     "output_type": "stream",
     "text": [
      "0.6595333333333333\n"
     ]
    }
   ],
   "source": [
    "#Accuracy or Testing score of our model:\n",
    "print(metrics.accuracy_score(sentiment_test, predict_sentiments))"
   ]
  }
 ],
 "metadata": {
  "kernelspec": {
   "display_name": "Python 3",
   "language": "python",
   "name": "python3"
  },
  "language_info": {
   "codemirror_mode": {
    "name": "ipython",
    "version": 3
   },
   "file_extension": ".py",
   "mimetype": "text/x-python",
   "name": "python",
   "nbconvert_exporter": "python",
   "pygments_lexer": "ipython3",
   "version": "3.8.8"
  }
 },
 "nbformat": 4,
 "nbformat_minor": 5
}
